{
 "cells": [
  {
   "cell_type": "code",
   "execution_count": 2,
   "metadata": {},
   "outputs": [],
   "source": [
    "import json"
   ]
  },
  {
   "cell_type": "code",
   "execution_count": 3,
   "metadata": {},
   "outputs": [],
   "source": [
    "import numpy as np\n",
    "import os, sys"
   ]
  },
  {
   "cell_type": "code",
   "execution_count": null,
   "metadata": {},
   "outputs": [],
   "source": [
    "config = {\n",
    "    'model': 'sdxl-turbo',\n",
    "    'obj': 'chair',\n",
    "    'n_samples': 10,\n",
    "    'seed' : 0,\n",
    "    'cutoff': [5.0, 5.0, 5.0, 5.0, 1.0, 1.0, 1.0],\n",
    "    'work_dir_prefix': './results',\n",
    "    'range': {0: list(np.arange(1.0, 2.01, 0.2)), 1: list(np.arange(1.0, 2.01, 0.2)), 2: [1.0]+list(np.arange(2.0, 10.01, 2.0)), 3: [1.0]+list(np.arange(2.0, 10.01, 2.0))},\n",
    "    'prompt': 'a creative {obj}',\n",
    "    'n_steps': 1,\n",
    "    'c3_steps': 1,\n",
    "    'guidance_scale': 0.0,\n",
    "    'use_thres':80,\n",
    "    'batch': 10\n",
    "      }\n"
   ]
  },
  {
   "cell_type": "code",
   "execution_count": 17,
   "metadata": {},
   "outputs": [
    {
     "data": {
      "text/plain": [
       "{'model': 'sdxl-turbo',\n",
       " 'obj': 'chair',\n",
       " 'n_samples': 10,\n",
       " 'seed': 0,\n",
       " 'cutoff': [5.0, 5.0, 5.0, 5.0, 1.0, 1.0, 1.0],\n",
       " 'work_dir_prefix': './results',\n",
       " 'range': {0: [1.0,\n",
       "   1.2,\n",
       "   1.4,\n",
       "   1.5999999999999999,\n",
       "   1.7999999999999998,\n",
       "   1.9999999999999998],\n",
       "  1: [1.0,\n",
       "   1.2,\n",
       "   1.4,\n",
       "   1.5999999999999999,\n",
       "   1.7999999999999998,\n",
       "   1.9999999999999998],\n",
       "  2: [1.0, 2.0, 4.0, 6.0, 8.0, 10.0],\n",
       "  3: [1.0, 2.0, 4.0, 6.0, 8.0, 10.0]},\n",
       " 'prompt': 'a creative {obj}',\n",
       " 'n_steps': 1,\n",
       " 'c3_steps': 1,\n",
       " 'guidance_scale': 0.0,\n",
       " 'use_thres': 80,\n",
       " 'batch': 10}"
      ]
     },
     "execution_count": 17,
     "metadata": {},
     "output_type": "execute_result"
    }
   ],
   "source": [
    "config"
   ]
  },
  {
   "cell_type": "code",
   "execution_count": 18,
   "metadata": {},
   "outputs": [],
   "source": [
    "json.dump(config, open('default.cfg', 'w'), indent=4)"
   ]
  },
  {
   "cell_type": "code",
   "execution_count": null,
   "metadata": {},
   "outputs": [],
   "source": []
  }
 ],
 "metadata": {
  "kernelspec": {
   "display_name": "t2i_eval",
   "language": "python",
   "name": "python3"
  },
  "language_info": {
   "codemirror_mode": {
    "name": "ipython",
    "version": 3
   },
   "file_extension": ".py",
   "mimetype": "text/x-python",
   "name": "python",
   "nbconvert_exporter": "python",
   "pygments_lexer": "ipython3",
   "version": "3.10.15"
  }
 },
 "nbformat": 4,
 "nbformat_minor": 2
}
